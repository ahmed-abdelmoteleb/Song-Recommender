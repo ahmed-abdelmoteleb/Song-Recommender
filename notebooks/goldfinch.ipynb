{
 "cells": [
  {
   "cell_type": "markdown",
   "metadata": {},
   "source": [
    "#                                         GOLDFINCH\n",
    "![title](gold_1x.JPG)"
   ]
  },
  {
   "cell_type": "markdown",
   "metadata": {},
   "source": [
    "## Spotify Song Recommendation based on audio features Clustering"
   ]
  },
  {
   "cell_type": "markdown",
   "metadata": {},
   "source": [
    "    1- Web scraping using beautifulsoup to get Billboard Hot 100\n",
    "    2- Spotify API to get Soptify dataset\n",
    "    3- Clustring using Kmeans (5 Clusters)\n",
    "    4- Flexible search (Song/Artist)\n",
    "    5- You will get your results in case of mistyping with 40% error  "
   ]
  },
  {
   "cell_type": "markdown",
   "metadata": {},
   "source": [
    "## Importing libraries"
   ]
  },
  {
   "cell_type": "code",
   "execution_count": 1,
   "metadata": {},
   "outputs": [],
   "source": [
    "import pandas as pd\n",
    "from sklearn.preprocessing import StandardScaler\n",
    "from sklearn.cluster import KMeans\n",
    "import spotipy\n",
    "from spotipy.oauth2 import SpotifyClientCredentials\n",
    "import difflib\n",
    "import os.path, time\n",
    "import datetime\n",
    "import pickle\n",
    "from my_credentials import *"
   ]
  },
  {
   "cell_type": "markdown",
   "metadata": {},
   "source": [
    "# Data Importing"
   ]
  },
  {
   "cell_type": "markdown",
   "metadata": {},
   "source": [
    "## Checking Billboard Hot 100 Last Update"
   ]
  },
  {
   "cell_type": "code",
   "execution_count": 2,
   "metadata": {},
   "outputs": [],
   "source": [
    "## the date of last update\n",
    "last_update= time.strftime('%m/%d/%Y', time.gmtime(os.path.getmtime('../Day 2/top100.csv')))\n",
    "## How many days\n",
    "days=(datetime.datetime.now()-datetime.datetime.strptime(last_update, '%m/%d/%Y')).days\n",
    "\n",
    "## More than one week it will update itself\n",
    "if days > 7:\n",
    "    from bs4 import BeautifulSoup\n",
    "    import requests\n",
    "    url = \"https://www.billboard.com/charts/hot-100\"\n",
    "    response = requests.get(url)\n",
    "    soup = BeautifulSoup(response.content, \"html.parser\")\n",
    "    song = [ i.get_text() for i in soup.select(\".chart-element__information__song\")]\n",
    "    artist = [ i.get_text() for i in soup.select(\".chart-element__information__artist\")]\n",
    "    top100=pd.DataFrame({'song':song,'artist':artist})\n",
    "# importing Billboard dataset\n",
    "else:\n",
    "    top100 = pd.read_csv('../Day 2/top100.csv')\n"
   ]
  },
  {
   "cell_type": "code",
   "execution_count": 3,
   "metadata": {},
   "outputs": [
    {
     "data": {
      "text/html": [
       "<div>\n",
       "<style scoped>\n",
       "    .dataframe tbody tr th:only-of-type {\n",
       "        vertical-align: middle;\n",
       "    }\n",
       "\n",
       "    .dataframe tbody tr th {\n",
       "        vertical-align: top;\n",
       "    }\n",
       "\n",
       "    .dataframe thead th {\n",
       "        text-align: right;\n",
       "    }\n",
       "</style>\n",
       "<table border=\"1\" class=\"dataframe\">\n",
       "  <thead>\n",
       "    <tr style=\"text-align: right;\">\n",
       "      <th></th>\n",
       "      <th>song</th>\n",
       "      <th>artist</th>\n",
       "    </tr>\n",
       "  </thead>\n",
       "  <tbody>\n",
       "    <tr>\n",
       "      <th>0</th>\n",
       "      <td>mood</td>\n",
       "      <td>24kgoldn featuring iann dior</td>\n",
       "    </tr>\n",
       "    <tr>\n",
       "      <th>1</th>\n",
       "      <td>therefore i am</td>\n",
       "      <td>billie eilish</td>\n",
       "    </tr>\n",
       "    <tr>\n",
       "      <th>2</th>\n",
       "      <td>positions</td>\n",
       "      <td>ariana grande</td>\n",
       "    </tr>\n",
       "    <tr>\n",
       "      <th>3</th>\n",
       "      <td>i hope</td>\n",
       "      <td>gabby barrett featuring charlie puth</td>\n",
       "    </tr>\n",
       "    <tr>\n",
       "      <th>4</th>\n",
       "      <td>laugh now cry later</td>\n",
       "      <td>drake featuring lil durk</td>\n",
       "    </tr>\n",
       "    <tr>\n",
       "      <th>...</th>\n",
       "      <td>...</td>\n",
       "      <td>...</td>\n",
       "    </tr>\n",
       "    <tr>\n",
       "      <th>95</th>\n",
       "      <td>tap in</td>\n",
       "      <td>saweetie</td>\n",
       "    </tr>\n",
       "    <tr>\n",
       "      <th>96</th>\n",
       "      <td>rockstar chainz</td>\n",
       "      <td>future</td>\n",
       "    </tr>\n",
       "    <tr>\n",
       "      <th>97</th>\n",
       "      <td>kacey talk</td>\n",
       "      <td>youngboy never broke again</td>\n",
       "    </tr>\n",
       "    <tr>\n",
       "      <th>98</th>\n",
       "      <td>practice</td>\n",
       "      <td>dababy</td>\n",
       "    </tr>\n",
       "    <tr>\n",
       "      <th>99</th>\n",
       "      <td>bought a bad bitch</td>\n",
       "      <td>future &amp; lil uzi vert</td>\n",
       "    </tr>\n",
       "  </tbody>\n",
       "</table>\n",
       "<p>100 rows × 2 columns</p>\n",
       "</div>"
      ],
      "text/plain": [
       "                   song                                artist\n",
       "0                  mood          24kgoldn featuring iann dior\n",
       "1        therefore i am                         billie eilish\n",
       "2             positions                         ariana grande\n",
       "3                i hope  gabby barrett featuring charlie puth\n",
       "4   laugh now cry later              drake featuring lil durk\n",
       "..                  ...                                   ...\n",
       "95               tap in                              saweetie\n",
       "96      rockstar chainz                                future\n",
       "97           kacey talk            youngboy never broke again\n",
       "98             practice                                dababy\n",
       "99   bought a bad bitch                 future & lil uzi vert\n",
       "\n",
       "[100 rows x 2 columns]"
      ]
     },
     "execution_count": 3,
     "metadata": {},
     "output_type": "execute_result"
    }
   ],
   "source": [
    "top100"
   ]
  },
  {
   "cell_type": "markdown",
   "metadata": {},
   "source": [
    "## Importing Spotify Playlist"
   ]
  },
  {
   "cell_type": "code",
   "execution_count": 4,
   "metadata": {},
   "outputs": [],
   "source": [
    "spotify = pd.read_csv('spotify_clusterd.csv')"
   ]
  },
  {
   "cell_type": "code",
   "execution_count": 5,
   "metadata": {},
   "outputs": [],
   "source": [
    "## Make sure that all names are strings\n",
    "spotify[['artist','song']]=spotify[['artist','song']].astype(str)"
   ]
  },
  {
   "cell_type": "code",
   "execution_count": 6,
   "metadata": {},
   "outputs": [
    {
     "data": {
      "text/html": [
       "<div>\n",
       "<style scoped>\n",
       "    .dataframe tbody tr th:only-of-type {\n",
       "        vertical-align: middle;\n",
       "    }\n",
       "\n",
       "    .dataframe tbody tr th {\n",
       "        vertical-align: top;\n",
       "    }\n",
       "\n",
       "    .dataframe thead th {\n",
       "        text-align: right;\n",
       "    }\n",
       "</style>\n",
       "<table border=\"1\" class=\"dataframe\">\n",
       "  <thead>\n",
       "    <tr style=\"text-align: right;\">\n",
       "      <th></th>\n",
       "      <th>song</th>\n",
       "      <th>artist</th>\n",
       "      <th>cluster</th>\n",
       "    </tr>\n",
       "  </thead>\n",
       "  <tbody>\n",
       "    <tr>\n",
       "      <th>0</th>\n",
       "      <td>Take Me To Church</td>\n",
       "      <td>Hozier</td>\n",
       "      <td>3</td>\n",
       "    </tr>\n",
       "    <tr>\n",
       "      <th>1</th>\n",
       "      <td>Cooler Than Me - Single Mix</td>\n",
       "      <td>Mike Posner, Gigamesh</td>\n",
       "      <td>0</td>\n",
       "    </tr>\n",
       "    <tr>\n",
       "      <th>2</th>\n",
       "      <td>See You Again (feat. Kali Uchis)</td>\n",
       "      <td>Tyler, The Creator, Kali Uchis</td>\n",
       "      <td>3</td>\n",
       "    </tr>\n",
       "    <tr>\n",
       "      <th>3</th>\n",
       "      <td>Pompeii</td>\n",
       "      <td>Bastille</td>\n",
       "      <td>1</td>\n",
       "    </tr>\n",
       "    <tr>\n",
       "      <th>4</th>\n",
       "      <td>Hips Don't Lie (feat. Wyclef Jean)</td>\n",
       "      <td>Shakira, Wyclef Jean</td>\n",
       "      <td>0</td>\n",
       "    </tr>\n",
       "    <tr>\n",
       "      <th>...</th>\n",
       "      <td>...</td>\n",
       "      <td>...</td>\n",
       "      <td>...</td>\n",
       "    </tr>\n",
       "    <tr>\n",
       "      <th>4890</th>\n",
       "      <td>Prisoner (feat. Dua Lipa)</td>\n",
       "      <td>Miley Cyrus, Dua Lipa</td>\n",
       "      <td>0</td>\n",
       "    </tr>\n",
       "    <tr>\n",
       "      <th>4891</th>\n",
       "      <td>Therefore I Am</td>\n",
       "      <td>Billie Eilish</td>\n",
       "      <td>0</td>\n",
       "    </tr>\n",
       "    <tr>\n",
       "      <th>4892</th>\n",
       "      <td>Dakiti</td>\n",
       "      <td>Bad Bunny, Jhay Cortez</td>\n",
       "      <td>3</td>\n",
       "    </tr>\n",
       "    <tr>\n",
       "      <th>4893</th>\n",
       "      <td>Levitating (feat. DaBaby)</td>\n",
       "      <td>Dua Lipa, DaBaby</td>\n",
       "      <td>0</td>\n",
       "    </tr>\n",
       "    <tr>\n",
       "      <th>4894</th>\n",
       "      <td>Put Your Records On</td>\n",
       "      <td>Ritt Momney</td>\n",
       "      <td>3</td>\n",
       "    </tr>\n",
       "  </tbody>\n",
       "</table>\n",
       "<p>4895 rows × 3 columns</p>\n",
       "</div>"
      ],
      "text/plain": [
       "                                    song                          artist  \\\n",
       "0                      Take Me To Church                          Hozier   \n",
       "1            Cooler Than Me - Single Mix           Mike Posner, Gigamesh   \n",
       "2       See You Again (feat. Kali Uchis)  Tyler, The Creator, Kali Uchis   \n",
       "3                                Pompeii                        Bastille   \n",
       "4     Hips Don't Lie (feat. Wyclef Jean)            Shakira, Wyclef Jean   \n",
       "...                                  ...                             ...   \n",
       "4890           Prisoner (feat. Dua Lipa)           Miley Cyrus, Dua Lipa   \n",
       "4891                      Therefore I Am                   Billie Eilish   \n",
       "4892                              Dakiti          Bad Bunny, Jhay Cortez   \n",
       "4893           Levitating (feat. DaBaby)                Dua Lipa, DaBaby   \n",
       "4894                 Put Your Records On                     Ritt Momney   \n",
       "\n",
       "      cluster  \n",
       "0           3  \n",
       "1           0  \n",
       "2           3  \n",
       "3           1  \n",
       "4           0  \n",
       "...       ...  \n",
       "4890        0  \n",
       "4891        0  \n",
       "4892        3  \n",
       "4893        0  \n",
       "4894        3  \n",
       "\n",
       "[4895 rows x 3 columns]"
      ]
     },
     "execution_count": 6,
     "metadata": {},
     "output_type": "execute_result"
    }
   ],
   "source": [
    "spotify"
   ]
  },
  {
   "cell_type": "markdown",
   "metadata": {},
   "source": [
    "![title](Project.JPG)"
   ]
  },
  {
   "cell_type": "markdown",
   "metadata": {},
   "source": [
    "# The Main function "
   ]
  },
  {
   "cell_type": "code",
   "execution_count": 7,
   "metadata": {},
   "outputs": [],
   "source": [
    "def music(s):\n",
    "    s=str(s)\n",
    "    # not in the top 100\n",
    "    if len(difflib.get_close_matches(s,top100.song)) == 0 and len(difflib.get_close_matches(s,top100.artist))== 0:\n",
    "        track = difflib.get_close_matches(s,spotify.song)\n",
    "        singer = difflib.get_close_matches(s,spotify.artist)\n",
    "        # if it is not in spotify playlist will search online\n",
    "        if len(track) == 0 and len(singer)== 0:\n",
    "            sp = spotipy.Spotify(auth_manager=SpotifyClientCredentials(client_id= client_id,\n",
    "                                                           client_secret= client_secret))\n",
    "            results = sp.search(q = s, limit=1)\n",
    "            # if it is not online will recomend any song from top 100\n",
    "            if len(results[\"tracks\"][\"items\"]) == 0:\n",
    "                print(\"\\n \\U0001F6D1 Sorry,there is nothing that matches your search or try to search by artist name.\\U0001F6D1 \\n\")\n",
    "                print(\"\\nYou can lestin to our top songs this week: \\U0001F4AF \\n\")\n",
    "                rec=top100.head(10)\n",
    "                for i in range(10):\n",
    "                    print(\"{}- \\U0001F51D '{}' \\U0001F3B5 by {} \\U0001F3A4 \\n\".format(i+1,rec.iloc[i,0],rec.iloc[i,1]))\n",
    "            # if it is online will recomend songs from Spotify after modling\n",
    "            else:\n",
    "                # spotify api\n",
    "                search=pd.DataFrame(sp.audio_features(results[\"tracks\"][\"items\"][0][\"uri\"]))\n",
    "                search.drop(columns=['type','id','uri','track_href','duration_ms','time_signature','analysis_url']\n",
    "                        ,inplace=True)\n",
    "                # Scaling usin a pickle file\n",
    "                with open('scaler.pkl', 'rb') as file:\n",
    "                    scaler = pickle.load(file)\n",
    "                search = scaler.transform(search)\n",
    "                # modling using a pickle file\n",
    "                with open('kmeans.pkl', 'rb') as file:\n",
    "                    kmeans = pickle.load(file)\n",
    "                clus = kmeans.predict(search)[0] # requied cluster\n",
    "                # recomended songs\n",
    "                print(\"\\nRecomended Songs: \\U0001F4F6 \\n\")\n",
    "                rec=spotify[spotify['cluster']== clus].sample(n=5)\n",
    "                for i in range(5):\n",
    "                    print(\"{}- \\U0001F3A7 '{}' \\U0001F3B5 by {} \\U0001F3A4 \".format(i+1,rec.iloc[i,0],rec.iloc[i,1]))\n",
    "            \n",
    "            #answer print(spot_clus[['song','artist']].sample(n=3))\n",
    "            # if it is in spotify playlist will recomend songs from the same cluster \n",
    "        else:\n",
    "            # searching by song\n",
    "            if len(difflib.get_close_matches(s,spotify.song)) != 0:\n",
    "                track=track[0]\n",
    "                clus = spotify[spotify['song']== track]['cluster'].iloc[0]\n",
    "            #searching by artist    \n",
    "            else:\n",
    "                singer=singer[0]\n",
    "                clus = spotify[spotify['artist']== singer]['cluster'].iloc[0]\n",
    "            print(\"\\n Recomended Songs: \\U0001F197 \\n\")\n",
    "            rec=spotify[spotify['cluster']== clus].sample(n=5)\n",
    "            for i in range(5):\n",
    "                print(\"{}- \\U0001F3A7 '{}' \\U0001F3B5 by {} \\U0001F3A4 \".format(i+1,rec.iloc[i,0],rec.iloc[i,1]))\n",
    "        \n",
    "    # it is in the top 100 will recomend from them    \n",
    "    else: \n",
    "        rec=top100.sample(n=5)\n",
    "        print(\"\\nRecomended Songs from TOP100: \\U0001F4AF \\n\")\n",
    "        for i in range(5):\n",
    "            print(\"{}- \\U0001F51D '{}' \\U0001F3B5 by {} \\U0001F3A4 \".format(i+1,rec.iloc[i,0],rec.iloc[i,1]))"
   ]
  },
  {
   "cell_type": "markdown",
   "metadata": {},
   "source": [
    "## You can search using this cell"
   ]
  },
  {
   "cell_type": "code",
   "execution_count": 13,
   "metadata": {},
   "outputs": [
    {
     "name": "stdout",
     "output_type": "stream",
     "text": [
      "Enter a Song or an Artist Name: dfifduoifjodfjkfjjvkdx\n",
      "\n",
      " 🛑 Sorry,there is nothing that matches your search or try to search by artist name.🛑 \n",
      "\n",
      "\n",
      "You can lestin to our top songs this week: 💯 \n",
      "\n",
      "1- 🔝 'mood' 🎵 by 24kgoldn featuring iann dior 🎤 \n",
      "\n",
      "2- 🔝 'therefore i am' 🎵 by billie eilish 🎤 \n",
      "\n",
      "3- 🔝 'positions' 🎵 by ariana grande 🎤 \n",
      "\n",
      "4- 🔝 'i hope' 🎵 by gabby barrett featuring charlie puth 🎤 \n",
      "\n",
      "5- 🔝 'laugh now cry later' 🎵 by drake featuring lil durk 🎤 \n",
      "\n",
      "6- 🔝 'holy' 🎵 by justin bieber featuring chance the rapper 🎤 \n",
      "\n",
      "7- 🔝 'blinding lights' 🎵 by the weeknd 🎤 \n",
      "\n",
      "8- 🔝 'lemonade' 🎵 by internet money & gunna featuring don toliver & nav 🎤 \n",
      "\n",
      "9- 🔝 'dakiti' 🎵 by bad bunny & jhay cortez 🎤 \n",
      "\n",
      "10- 🔝 'for the night' 🎵 by pop smoke featuring lil baby & dababy 🎤 \n",
      "\n"
     ]
    }
   ],
   "source": [
    "mysong=music(input(\"Enter a Song or an Artist Name: \"))"
   ]
  },
  {
   "cell_type": "code",
   "execution_count": null,
   "metadata": {},
   "outputs": [],
   "source": []
  }
 ],
 "metadata": {
  "kernelspec": {
   "display_name": "Python 3",
   "language": "python",
   "name": "python3"
  },
  "language_info": {
   "codemirror_mode": {
    "name": "ipython",
    "version": 3
   },
   "file_extension": ".py",
   "mimetype": "text/x-python",
   "name": "python",
   "nbconvert_exporter": "python",
   "pygments_lexer": "ipython3",
   "version": "3.8.5"
  }
 },
 "nbformat": 4,
 "nbformat_minor": 4
}
